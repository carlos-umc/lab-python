{
 "cells": [
  {
   "cell_type": "markdown",
   "metadata": {},
   "source": [
    "### Reduction operation: the sum of the numbers in the range [0, a)"
   ]
  },
  {
   "cell_type": "code",
   "execution_count": 4,
   "metadata": {},
   "outputs": [
    {
     "name": "stdout",
     "output_type": "stream",
     "text": [
      "Time taken by reduction operation: 0.26982951164245605 seconds\n",
      "256 ms ± 3.2 ms per loop (mean ± std. dev. of 2 runs, 1 loop each)\n",
      "\n",
      " \t Computing the sum of numbers in the range [0, value): 499999500000\n",
      "\n"
     ]
    }
   ],
   "source": [
    "import time\n",
    "\n",
    "def reduc_operation(a):\n",
    "    \"\"\"Compute the sum of the numbers in the range [0, a).\"\"\"\n",
    "    x = 0\n",
    "    for i in range(a):\n",
    "        x += i\n",
    "    return x\n",
    "\n",
    "# Secuencial\n",
    "\n",
    "value = 1000000\n",
    "\n",
    "initialTime = time.time()\n",
    "suma = reduc_operation(value)\n",
    "finalTime = time.time()\n",
    "\n",
    "print(\"Time taken by reduction operation:\", (finalTime - initialTime), \"seconds\")\n",
    "\n",
    "# Utilizando las operaciones mágicas de ipython\n",
    "%timeit -r 2 reduc_operation(value)\n",
    "\n",
    "print(f\"\\n \\t Computing the sum of numbers in the range [0, value): {suma}\\n\")"
   ]
  },
  {
   "cell_type": "code",
   "execution_count": 5,
   "metadata": {},
   "outputs": [
    {
     "name": "stdout",
     "output_type": "stream",
     "text": [
      "Suma con bucle for: 499999500000\n",
      "Tiempo con bucle for: 0.46884942054748535 segundos\n",
      "Suma con sum(): 499999500000\n",
      "Tiempo con sum(): 0.030940771102905273 segundos\n"
     ]
    }
   ],
   "source": [
    "import time\n",
    "\n",
    "# Crear una lista con 10**6 elementos\n",
    "lista = list(range(10**6))\n",
    "\n",
    "# Suma usando un bucle for\n",
    "suma_for = 0\n",
    "start_time = time.time()\n",
    "for num in lista:\n",
    "    suma_for += num\n",
    "end_time = time.time()\n",
    "\n",
    "print(\"Suma con bucle for:\", suma_for)\n",
    "print(\"Tiempo con bucle for:\", end_time - start_time, \"segundos\")\n",
    "\n",
    "# Suma usando la función sum()\n",
    "start_time = time.time()\n",
    "suma_builtin = sum(lista)\n",
    "end_time = time.time()\n",
    "\n",
    "print(\"Suma con sum():\", suma_builtin)\n",
    "print(\"Tiempo con sum():\", end_time - start_time, \"segundos\")\n"
   ]
  },
  {
   "cell_type": "code",
   "execution_count": 6,
   "metadata": {},
   "outputs": [
    {
     "name": "stdout",
     "output_type": "stream",
     "text": [
      "Suma con bucle for (NumPy): 499999500000\n",
      "Tiempo con bucle for (NumPy): 1.5631029605865479 segundos\n",
      "Suma con np.sum(): 499999500000\n",
      "Tiempo con np.sum(): 0.004665374755859375 segundos\n"
     ]
    }
   ],
   "source": [
    "import numpy as np\n",
    "import time\n",
    "\n",
    "# Convertir la lista a un array de NumPy\n",
    "array = np.array(lista)\n",
    "\n",
    "# Suma usando un bucle for\n",
    "suma_for_numpy = 0\n",
    "start_time = time.time()\n",
    "for num in array:\n",
    "    suma_for_numpy += num\n",
    "end_time = time.time()\n",
    "\n",
    "print(\"Suma con bucle for (NumPy):\", suma_for_numpy)\n",
    "print(\"Tiempo con bucle for (NumPy):\", end_time - start_time, \"segundos\")\n",
    "\n",
    "# Suma usando np.sum() (vectorizada y optimizada)\n",
    "start_time = time.time()\n",
    "suma_numpy = np.sum(array)\n",
    "end_time = time.time()\n",
    "\n",
    "print(\"Suma con np.sum():\", suma_numpy)\n",
    "print(\"Tiempo con np.sum():\", end_time - start_time, \"segundos\")\n"
   ]
  },
  {
   "cell_type": "markdown",
   "metadata": {},
   "source": [
    "### Explicación de Resultados\n",
    "\n",
    "1. **Código Original (Secuencial con `reduc_operation`)**:\n",
    "    - Este código usa un bucle `for` para calcular la suma directamente sobre el rango `[0, a)`.\n",
    "    - **Tiempo**: ~256 ms (con `%timeit`).\n",
    "    - La implementación es sencilla, pero ineficiente porque recorre todos los elementos uno por uno.\n",
    "\n",
    "2. **Listas en Python**:\n",
    "    - **Bucle for**: ~0.469 s.\n",
    "        - Similar al código original en cuanto a lógica, pero aplicando el bucle sobre una lista creada con `range`.\n",
    "        - Más lento que usar la función `sum` debido a la sobrecarga del bucle explícito.\n",
    "    - **Función `sum()`**: ~0.031 s.\n",
    "        - La función `sum()` es mucho más rápida porque está optimizada internamente en C, evitando la iteración explícita.\n",
    "\n",
    "3. **Arrays en NumPy**:\n",
    "    - **Bucle for**: ~1.563 s.\n",
    "        - Sorprendentemente, el bucle explícito en NumPy es aún más lento que en listas de Python.\n",
    "        - Esto ocurre porque NumPy no está diseñado para operaciones elementales iterativas; su fortaleza está en las operaciones vectorizadas.\n",
    "    - **`np.sum()`**: ~0.005 s.\n",
    "        - Este es el método más rápido de todos. NumPy aprovecha operaciones vectorizadas optimizadas en C, lo que reduce significativamente el tiempo de ejecución.\n",
    "\n",
    "---\n",
    "\n",
    "### Conclusión\n",
    "\n",
    "- El uso de **NumPy con operaciones vectorizadas (`np.sum()`)** es significativamente más eficiente, siendo aproximadamente **50 veces más rápido** que el bucle `for` en listas de Python.\n",
    "- La función `sum()` en listas también es eficiente, pero menos que las optimizaciones de NumPy.\n",
    "- Los bucles explícitos en general son los métodos más lentos, especialmente cuando se aplican a estructuras como arrays de NumPy, que están diseñados para operaciones vectorizadas.\n"
   ]
  },
  {
   "cell_type": "code",
   "execution_count": null,
   "metadata": {},
   "outputs": [],
   "source": []
  }
 ],
 "metadata": {
  "kernelspec": {
   "display_name": "Python 3",
   "language": "python",
   "name": "python3"
  },
  "language_info": {
   "codemirror_mode": {
    "name": "ipython",
    "version": 3
   },
   "file_extension": ".py",
   "mimetype": "text/x-python",
   "name": "python",
   "nbconvert_exporter": "python",
   "pygments_lexer": "ipython3",
   "version": "3.8.5"
  }
 },
 "nbformat": 4,
 "nbformat_minor": 5
}
