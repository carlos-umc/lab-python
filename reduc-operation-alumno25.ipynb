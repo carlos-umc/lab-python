{
 "cells": [
  {
   "cell_type": "markdown",
   "id": "f942d288-be01-42cd-9b84-83529c6769be",
   "metadata": {},
   "source": [
    "### Reduction operation: the sum of the numbers in the range [0, a)"
   ]
  },
  {
   "cell_type": "code",
   "execution_count": 1,
   "id": "496946fa-2a28-4c1d-8a6a-2ee0b8fd8ced",
   "metadata": {},
   "outputs": [
    {
     "name": "stdout",
     "output_type": "stream",
     "text": [
      "Time taken by reduction operation: 0.08183670043945312 seconds\n",
      "75.6 ms ± 1.22 ms per loop (mean ± std. dev. of 2 runs, 10 loops each)\n",
      "\n",
      " \t Computing the sum of numbers in the range [0, value): 499999500000\n",
      "\n"
     ]
    }
   ],
   "source": [
    "import time\n",
    "\n",
    "def reduc_operation(a):\n",
    "    \"\"\"Compute the sum of the numbers in the range [0, a).\"\"\"\n",
    "    x = 0\n",
    "    for i in range(a):\n",
    "        x += i\n",
    "    return x\n",
    "\n",
    "# Secuencial\n",
    "\n",
    "value = 1000000\n",
    "\n",
    "initialTime = time.time()\n",
    "suma = reduc_operation(value)\n",
    "finalTime = time.time()\n",
    "\n",
    "print(\"Time taken by reduction operation:\", (finalTime - initialTime), \"seconds\")\n",
    "\n",
    "# Utilizando las operaciones mágicas de ipython\n",
    "%timeit -r 2 reduc_operation(value)\n",
    "\n",
    "print(f\"\\n \\t Computing the sum of numbers in the range [0, value): {suma}\\n\")"
   ]
  },
  {
   "cell_type": "markdown",
   "id": "2efe5bd4-31b9-4614-98e6-725e1175e49a",
   "metadata": {},
   "source": [
    "# APARTADO 3.2 a)"
   ]
  },
  {
   "cell_type": "code",
   "execution_count": 3,
   "id": "d9e0673a-628c-41b2-94eb-743cc8024ed0",
   "metadata": {},
   "outputs": [
    {
     "name": "stdout",
     "output_type": "stream",
     "text": [
      "Time taken by reduction operation with for loop (list): 0.12814784049987793 seconds\n",
      "Time taken by reduction operation with sum() (list): 0.016636133193969727 seconds\n",
      "\n",
      "\tComputing the sum of numbers in the list: 499999500000\n",
      "\n"
     ]
    }
   ],
   "source": [
    "import time\n",
    "\n",
    "def reduc_operation_list_for(lista):\n",
    "    \"\"\"Compute the sum of the numbers in the list using a for loop.\"\"\"\n",
    "    x = 0\n",
    "    for i in lista:\n",
    "        x += i\n",
    "    return x\n",
    "\n",
    "def reduc_operation_list_sum(lista):\n",
    "    \"\"\"Compute the sum of the numbers in the list using the built-in sum function.\"\"\"\n",
    "    return sum(lista)\n",
    "\n",
    "# Crear una lista con 10^6 elementos\n",
    "value = 10**6\n",
    "lista = list(range(value))\n",
    "\n",
    "# Suma usando bucle for\n",
    "initialTime = time.time()\n",
    "suma_for = reduc_operation_list_for(lista)\n",
    "finalTime = time.time()\n",
    "print(\"Time taken by reduction operation with for loop (list):\", (finalTime - initialTime), \"seconds\")\n",
    "\n",
    "# Suma usando la función sum()\n",
    "initialTime = time.time()\n",
    "suma_builtin = reduc_operation_list_sum(lista)\n",
    "finalTime = time.time()\n",
    "print(\"Time taken by reduction operation with sum() (list):\", (finalTime - initialTime), \"seconds\")\n",
    "\n",
    "print(f\"\\n\\tComputing the sum of numbers in the list: {suma_for}\\n\")\n"
   ]
  },
  {
   "cell_type": "markdown",
   "id": "b9655854-2c24-450d-8204-69b3c302c8fd",
   "metadata": {},
   "source": [
    "# APARTADO 3.2 b)"
   ]
  },
  {
   "cell_type": "code",
   "execution_count": 5,
   "id": "f7f683f3-5882-436b-9dbb-fa6c549771e1",
   "metadata": {},
   "outputs": [
    {
     "name": "stdout",
     "output_type": "stream",
     "text": [
      "Time taken by reduction operation with for loop (NumPy array): 0.1605381965637207 seconds\n",
      "Time taken by reduction operation with np.sum() (NumPy array): 0.0008482933044433594 seconds\n",
      "\n",
      "\tComputing the sum of numbers in the array: 499999500000\n",
      "\n"
     ]
    }
   ],
   "source": [
    "import numpy as np\n",
    "import time\n",
    "\n",
    "def reduc_operation_array_for(array):\n",
    "    \"\"\"Compute the sum of the numbers in the array using a for loop.\"\"\"\n",
    "    x = 0\n",
    "    for i in array:\n",
    "        x += i\n",
    "    return x\n",
    "\n",
    "def reduc_operation_array_sum(array):\n",
    "    \"\"\"Compute the sum of the numbers in the array using numpy's sum function.\"\"\"\n",
    "    return np.sum(array)\n",
    "\n",
    "# Crear un array de NumPy con 10^6 elementos\n",
    "value = 10**6\n",
    "array = np.array(range(value))\n",
    "\n",
    "# Suma usando bucle for\n",
    "initialTime = time.time()\n",
    "suma_for = reduc_operation_array_for(array)\n",
    "finalTime = time.time()\n",
    "print(\"Time taken by reduction operation with for loop (NumPy array):\", (finalTime - initialTime), \"seconds\")\n",
    "\n",
    "# Suma usando np.sum()\n",
    "initialTime = time.time()\n",
    "suma_numpy = reduc_operation_array_sum(array)\n",
    "finalTime = time.time()\n",
    "print(\"Time taken by reduction operation with np.sum() (NumPy array):\", (finalTime - initialTime), \"seconds\")\n",
    "\n",
    "print(f\"\\n\\tComputing the sum of numbers in the array: {suma_numpy}\\n\")\n"
   ]
  },
  {
   "cell_type": "markdown",
   "id": "958814c2-5c88-4683-bb2f-ec502ec78194",
   "metadata": {},
   "source": [
    "# APARTADO 3.2 c)\n",
    "\n",
    "### Explicación de Resultados\n",
    "\n",
    "Los resultados obtenidos por los tres procedimientos muestran diferencias significativas en términos de tiempos de ejecución. A continuación, se describe cada caso:\n",
    "\n",
    "1. **Código Original (Secuencial con `range`)**\n",
    "   - Este código utiliza un bucle `for` sobre el rango `[0, a)` para realizar la operación de reducción. Aunque es sencillo y fácil de entender, no está optimizado para la gestión de memoria ni para operaciones en paralelo.\n",
    "   - El tiempo de ejecución refleja las limitaciones de Python puro para manejar iteraciones elementales de manera eficiente.\n",
    "\n",
    "2. **Código con `Lists`**\n",
    "   - **Bucle `for` con listas:**\n",
    "     - Similar al código original, pero aplicado a una lista explícita en lugar de un rango. Aunque ambos tiempos son comparables, operar directamente sobre listas es marginalmente más lento porque la lista ocupa más memoria y tiene un mayor costo de gestión.\n",
    "   - **`sum()` con listas:**\n",
    "     - La función `sum()` es significativamente más rápida porque está optimizada internamente en C. Esto evita la iteración explícita y aprovecha implementaciones de bajo nivel.\n",
    "\n",
    "3. **Código con `NumPy`**\n",
    "   - **Bucle `for` con arrays de NumPy:**\n",
    "     - A pesar de que NumPy está diseñado para operaciones vectorizadas, el uso de un bucle explícito no aprovecha estas optimizaciones. De hecho, el tiempo es similar al bucle `for` con listas debido a la sobrecarga de la interfaz de NumPy.\n",
    "   - **`np.sum()` con NumPy:**\n",
    "     - Este es el método más rápido con diferencia. `np.sum()` está altamente optimizado para realizar operaciones vectorizadas, utilizando memoria contigua y rutinas escritas en C.\n",
    "\n",
    "### Conclusión\n",
    "\n",
    "1. **El método más eficiente es `np.sum()` con arrays de NumPy**, que aprovecha las optimizaciones vectorizadas y reduce el tiempo de ejecución en órdenes de magnitud.\n",
    "2. **La función `sum()` en listas** también es mucho más rápida que los bucles explícitos, pero sigue siendo menos eficiente que `np.sum()` debido a la falta de optimización para memoria contigua.\n",
    "3. **Los bucles `for` (ya sea en listas o NumPy)** son los menos eficientes, y reflejan las limitaciones del enfoque secuencial y la gestión de memoria en Python puro.\n",
    "\n",
    "Por lo tanto, para operaciones de reducción en datos grandes, **NumPy es la mejor elección**, especialmente cuando se usan funciones optimizadas como `np.sum()`.\n"
   ]
  },
  {
   "cell_type": "markdown",
   "id": "b2939f50-1baa-46dc-8a33-4e00cb585ed0",
   "metadata": {},
   "source": [
    "# APARTADO 3.3 a)"
   ]
  },
  {
   "cell_type": "code",
   "execution_count": 9,
   "id": "46dbacff-400e-4e60-8d9d-936b38aeaf3f",
   "metadata": {},
   "outputs": [
    {
     "name": "stdout",
     "output_type": "stream",
     "text": [
      "Ejecución con Numba: Bucle for\n",
      "Primera ejecución (incluye compilación JIT): 1.0856499671936035 segundos\n",
      "Segunda ejecución (ya compilada): 0.000946044921875 segundos\n",
      "\n",
      "Ejecución con Numba: np.sum()\n",
      "Primera ejecución (incluye compilación JIT): 0.22816109657287598 segundos\n",
      "Segunda ejecución (ya compilada): 0.0005381107330322266 segundos\n",
      "\n",
      "\tSum using for loop with Numba: 499999500000\n",
      "\tSum using np.sum() with Numba: 499999500000\n"
     ]
    }
   ],
   "source": [
    "from numba import njit\n",
    "import numpy as np\n",
    "import time\n",
    "\n",
    "# Definir las funciones optimizadas con Numba\n",
    "\n",
    "@njit\n",
    "def reduc_operation_array_for_numba(array):\n",
    "    \"\"\"Compute the sum of the numbers in the array using a for loop with Numba.\"\"\"\n",
    "    x = 0\n",
    "    for i in array:\n",
    "        x += i\n",
    "    return x\n",
    "\n",
    "@njit\n",
    "def reduc_operation_array_sum_numba(array):\n",
    "    \"\"\"Compute the sum of the numbers in the array using numpy's sum function.\"\"\"\n",
    "    return np.sum(array)\n",
    "\n",
    "# Crear un array de NumPy compatible con Numba\n",
    "value = 10**6\n",
    "array = np.array(range(value), dtype=np.int32)  # Usar dtype=np.int32 para compatibilidad con Numba\n",
    "\n",
    "# Ejecutar la suma con bucle for con Numba (primera y segunda ejecución)\n",
    "print(\"Ejecución con Numba: Bucle for\")\n",
    "initialTime = time.time()\n",
    "suma_for_numba = reduc_operation_array_for_numba(array)  # Primera ejecución (compilación JIT)\n",
    "finalTime = time.time()\n",
    "print(\"Primera ejecución (incluye compilación JIT):\", (finalTime - initialTime), \"segundos\")\n",
    "\n",
    "initialTime = time.time()\n",
    "suma_for_numba = reduc_operation_array_for_numba(array)  # Segunda ejecución (ya compilada)\n",
    "finalTime = time.time()\n",
    "print(\"Segunda ejecución (ya compilada):\", (finalTime - initialTime), \"segundos\")\n",
    "\n",
    "# Ejecutar la suma con np.sum() con Numba (primera y segunda ejecución)\n",
    "print(\"\\nEjecución con Numba: np.sum()\")\n",
    "initialTime = time.time()\n",
    "suma_numpy_numba = reduc_operation_array_sum_numba(array)  # Primera ejecución (compilación JIT)\n",
    "finalTime = time.time()\n",
    "print(\"Primera ejecución (incluye compilación JIT):\", (finalTime - initialTime), \"segundos\")\n",
    "\n",
    "initialTime = time.time()\n",
    "suma_numpy_numba = reduc_operation_array_sum_numba(array)  # Segunda ejecución (ya compilada)\n",
    "finalTime = time.time()\n",
    "print(\"Segunda ejecución (ya compilada):\", (finalTime - initialTime), \"segundos\")\n",
    "\n",
    "# Mostrar resultados\n",
    "print(f\"\\n\\tSum using for loop with Numba: {suma_for_numba}\")\n",
    "print(f\"\\tSum using np.sum() with Numba: {suma_numpy_numba}\")\n"
   ]
  },
  {
   "cell_type": "markdown",
   "id": "9051c684-aa1d-4a72-9334-f6a750750b36",
   "metadata": {},
   "source": [
    "# APARTADO 3.3 b)\n",
    "\n",
    "Cuando usamos @njit de Numba, la función decorada no se ejecuta directamente como lo haría una función normal de Python. En cambio, durante la primera ejecución, Numba compila el código Python a código máquina optimizado para la arquitectura de tu CPU. Esto añade un costo inicial de compilación que se refleja en un tiempo más alto. En las ejecuciones posteriores, la función ya está compilada, por lo que se ejecuta mucho más rápido (directamente en código máquina).\n",
    "\n",
    "**Bucle for con Numba:**\n",
    "Mejora mucho porque Python puro gestiona bucles de forma interpretada, lo que añade una gran sobrecarga. Cada operación dentro del bucle se traduce a múltiples llamadas a nivel bajo. Numba convierte el bucle en código máquina, eliminando esta sobrecarga y acelerando las operaciones elementales (suma, iteración).\n",
    "Resultado: El tiempo baja de 1 segundo en la primera ejecución a menos de 1 milisegundo en la segunda.\n",
    "\n",
    "**np.sum() con Numba:**\n",
    "No mejora tanto porque np.sum() ya está implementado y optimizado en C dentro de NumPy. Cuando lo llamas en Python, no pasa por el intérprete de Python, sino que ejecuta directamente el código optimizado de NumPy. Aunque decorarlo con @njit permite que Numba compile la función en la que se usa np.sum(), Numba no optimiza las funciones internas de NumPy, ya que estas son externas al ecosistema de Numba.\n",
    "Resultado: np.sum() ya es muy eficiente, y el impacto de Numba es mínimo. En este caso, la mejora observada probablemente se deba a la eliminación del overhead de Python alrededor de la llamada a np.sum().\n"
   ]
  },
  {
   "cell_type": "code",
   "execution_count": null,
   "id": "e956d22d-3dfc-43b3-8f03-1d523eae0f62",
   "metadata": {},
   "outputs": [],
   "source": []
  }
 ],
 "metadata": {
  "kernelspec": {
   "display_name": "Python 3 (ipykernel)",
   "language": "python",
   "name": "python3"
  },
  "language_info": {
   "codemirror_mode": {
    "name": "ipython",
    "version": 3
   },
   "file_extension": ".py",
   "mimetype": "text/x-python",
   "name": "python",
   "nbconvert_exporter": "python",
   "pygments_lexer": "ipython3",
   "version": "3.12.4"
  }
 },
 "nbformat": 4,
 "nbformat_minor": 5
}
